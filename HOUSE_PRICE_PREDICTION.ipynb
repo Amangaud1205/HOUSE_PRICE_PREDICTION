{
  "cells": [
    {
      "cell_type": "markdown",
      "metadata": {
        "id": "view-in-github",
        "colab_type": "text"
      },
      "source": [
        "<a href=\"https://colab.research.google.com/github/Amangaud1205/House_Price_Prediction/blob/main/HOUSE_PRICE_PREDICTION.ipynb\" target=\"_parent\"><img src=\"https://colab.research.google.com/assets/colab-badge.svg\" alt=\"Open In Colab\"/></a>"
      ]
    },
    {
      "cell_type": "code",
      "execution_count": null,
      "metadata": {
        "id": "nrtV0zoF7Ubm"
      },
      "outputs": [],
      "source": [
        "import numpy as np\n",
        "import pandas as pd\n",
        "import matplotlib.pyplot as plt\n",
        "import seaborn as sns\n",
        "from sklearn.model_selection import train_test_split"
      ]
    },
    {
      "cell_type": "code",
      "execution_count": null,
      "metadata": {
        "colab": {
          "base_uri": "https://localhost:8080/",
          "height": 73
        },
        "id": "BycQR0cQ7dWO",
        "outputId": "37ecde11-0ec0-4b6d-b601-d7908acdcbe2"
      },
      "outputs": [
        {
          "output_type": "display_data",
          "data": {
            "text/plain": [
              "<IPython.core.display.HTML object>"
            ],
            "text/html": [
              "\n",
              "     <input type=\"file\" id=\"files-f802b7d3-b900-4a50-9a57-2c5793dfa1cf\" name=\"files[]\" multiple disabled\n",
              "        style=\"border:none\" />\n",
              "     <output id=\"result-f802b7d3-b900-4a50-9a57-2c5793dfa1cf\">\n",
              "      Upload widget is only available when the cell has been executed in the\n",
              "      current browser session. Please rerun this cell to enable.\n",
              "      </output>\n",
              "      <script>// Copyright 2017 Google LLC\n",
              "//\n",
              "// Licensed under the Apache License, Version 2.0 (the \"License\");\n",
              "// you may not use this file except in compliance with the License.\n",
              "// You may obtain a copy of the License at\n",
              "//\n",
              "//      http://www.apache.org/licenses/LICENSE-2.0\n",
              "//\n",
              "// Unless required by applicable law or agreed to in writing, software\n",
              "// distributed under the License is distributed on an \"AS IS\" BASIS,\n",
              "// WITHOUT WARRANTIES OR CONDITIONS OF ANY KIND, either express or implied.\n",
              "// See the License for the specific language governing permissions and\n",
              "// limitations under the License.\n",
              "\n",
              "/**\n",
              " * @fileoverview Helpers for google.colab Python module.\n",
              " */\n",
              "(function(scope) {\n",
              "function span(text, styleAttributes = {}) {\n",
              "  const element = document.createElement('span');\n",
              "  element.textContent = text;\n",
              "  for (const key of Object.keys(styleAttributes)) {\n",
              "    element.style[key] = styleAttributes[key];\n",
              "  }\n",
              "  return element;\n",
              "}\n",
              "\n",
              "// Max number of bytes which will be uploaded at a time.\n",
              "const MAX_PAYLOAD_SIZE = 100 * 1024;\n",
              "\n",
              "function _uploadFiles(inputId, outputId) {\n",
              "  const steps = uploadFilesStep(inputId, outputId);\n",
              "  const outputElement = document.getElementById(outputId);\n",
              "  // Cache steps on the outputElement to make it available for the next call\n",
              "  // to uploadFilesContinue from Python.\n",
              "  outputElement.steps = steps;\n",
              "\n",
              "  return _uploadFilesContinue(outputId);\n",
              "}\n",
              "\n",
              "// This is roughly an async generator (not supported in the browser yet),\n",
              "// where there are multiple asynchronous steps and the Python side is going\n",
              "// to poll for completion of each step.\n",
              "// This uses a Promise to block the python side on completion of each step,\n",
              "// then passes the result of the previous step as the input to the next step.\n",
              "function _uploadFilesContinue(outputId) {\n",
              "  const outputElement = document.getElementById(outputId);\n",
              "  const steps = outputElement.steps;\n",
              "\n",
              "  const next = steps.next(outputElement.lastPromiseValue);\n",
              "  return Promise.resolve(next.value.promise).then((value) => {\n",
              "    // Cache the last promise value to make it available to the next\n",
              "    // step of the generator.\n",
              "    outputElement.lastPromiseValue = value;\n",
              "    return next.value.response;\n",
              "  });\n",
              "}\n",
              "\n",
              "/**\n",
              " * Generator function which is called between each async step of the upload\n",
              " * process.\n",
              " * @param {string} inputId Element ID of the input file picker element.\n",
              " * @param {string} outputId Element ID of the output display.\n",
              " * @return {!Iterable<!Object>} Iterable of next steps.\n",
              " */\n",
              "function* uploadFilesStep(inputId, outputId) {\n",
              "  const inputElement = document.getElementById(inputId);\n",
              "  inputElement.disabled = false;\n",
              "\n",
              "  const outputElement = document.getElementById(outputId);\n",
              "  outputElement.innerHTML = '';\n",
              "\n",
              "  const pickedPromise = new Promise((resolve) => {\n",
              "    inputElement.addEventListener('change', (e) => {\n",
              "      resolve(e.target.files);\n",
              "    });\n",
              "  });\n",
              "\n",
              "  const cancel = document.createElement('button');\n",
              "  inputElement.parentElement.appendChild(cancel);\n",
              "  cancel.textContent = 'Cancel upload';\n",
              "  const cancelPromise = new Promise((resolve) => {\n",
              "    cancel.onclick = () => {\n",
              "      resolve(null);\n",
              "    };\n",
              "  });\n",
              "\n",
              "  // Wait for the user to pick the files.\n",
              "  const files = yield {\n",
              "    promise: Promise.race([pickedPromise, cancelPromise]),\n",
              "    response: {\n",
              "      action: 'starting',\n",
              "    }\n",
              "  };\n",
              "\n",
              "  cancel.remove();\n",
              "\n",
              "  // Disable the input element since further picks are not allowed.\n",
              "  inputElement.disabled = true;\n",
              "\n",
              "  if (!files) {\n",
              "    return {\n",
              "      response: {\n",
              "        action: 'complete',\n",
              "      }\n",
              "    };\n",
              "  }\n",
              "\n",
              "  for (const file of files) {\n",
              "    const li = document.createElement('li');\n",
              "    li.append(span(file.name, {fontWeight: 'bold'}));\n",
              "    li.append(span(\n",
              "        `(${file.type || 'n/a'}) - ${file.size} bytes, ` +\n",
              "        `last modified: ${\n",
              "            file.lastModifiedDate ? file.lastModifiedDate.toLocaleDateString() :\n",
              "                                    'n/a'} - `));\n",
              "    const percent = span('0% done');\n",
              "    li.appendChild(percent);\n",
              "\n",
              "    outputElement.appendChild(li);\n",
              "\n",
              "    const fileDataPromise = new Promise((resolve) => {\n",
              "      const reader = new FileReader();\n",
              "      reader.onload = (e) => {\n",
              "        resolve(e.target.result);\n",
              "      };\n",
              "      reader.readAsArrayBuffer(file);\n",
              "    });\n",
              "    // Wait for the data to be ready.\n",
              "    let fileData = yield {\n",
              "      promise: fileDataPromise,\n",
              "      response: {\n",
              "        action: 'continue',\n",
              "      }\n",
              "    };\n",
              "\n",
              "    // Use a chunked sending to avoid message size limits. See b/62115660.\n",
              "    let position = 0;\n",
              "    do {\n",
              "      const length = Math.min(fileData.byteLength - position, MAX_PAYLOAD_SIZE);\n",
              "      const chunk = new Uint8Array(fileData, position, length);\n",
              "      position += length;\n",
              "\n",
              "      const base64 = btoa(String.fromCharCode.apply(null, chunk));\n",
              "      yield {\n",
              "        response: {\n",
              "          action: 'append',\n",
              "          file: file.name,\n",
              "          data: base64,\n",
              "        },\n",
              "      };\n",
              "\n",
              "      let percentDone = fileData.byteLength === 0 ?\n",
              "          100 :\n",
              "          Math.round((position / fileData.byteLength) * 100);\n",
              "      percent.textContent = `${percentDone}% done`;\n",
              "\n",
              "    } while (position < fileData.byteLength);\n",
              "  }\n",
              "\n",
              "  // All done.\n",
              "  yield {\n",
              "    response: {\n",
              "      action: 'complete',\n",
              "    }\n",
              "  };\n",
              "}\n",
              "\n",
              "scope.google = scope.google || {};\n",
              "scope.google.colab = scope.google.colab || {};\n",
              "scope.google.colab._files = {\n",
              "  _uploadFiles,\n",
              "  _uploadFilesContinue,\n",
              "};\n",
              "})(self);\n",
              "</script> "
            ]
          },
          "metadata": {}
        },
        {
          "output_type": "stream",
          "name": "stdout",
          "text": [
            "Saving HousePricePrediction.xlsx to HousePricePrediction.xlsx\n"
          ]
        }
      ],
      "source": [
        "from google.colab import files\n",
        "uploaded = files.upload()"
      ]
    },
    {
      "cell_type": "code",
      "execution_count": null,
      "metadata": {
        "id": "GYrgUG7p7mKn"
      },
      "outputs": [],
      "source": [
        "# loading the data from csv file to Pandas DataFrame\n",
        "data = pd.read_excel(\"HousePricePrediction.xlsx\")"
      ]
    },
    {
      "cell_type": "code",
      "execution_count": null,
      "metadata": {
        "colab": {
          "base_uri": "https://localhost:8080/",
          "height": 363
        },
        "id": "IwV6fRMi8YaY",
        "outputId": "9c22795f-9e28-48c1-a604-15489dcbf977"
      },
      "outputs": [
        {
          "output_type": "execute_result",
          "data": {
            "text/plain": [
              "   Id  MSSubClass MSZoning  LotArea LotConfig BldgType  OverallCond  \\\n",
              "0   0          60       RL     8450    Inside     1Fam            5   \n",
              "1   1          20       RL     9600       FR2     1Fam            8   \n",
              "2   2          60       RL    11250    Inside     1Fam            5   \n",
              "3   3          70       RL     9550    Corner     1Fam            5   \n",
              "4   4          60       RL    14260       FR2     1Fam            5   \n",
              "5   5          50       RL    14115    Inside     1Fam            5   \n",
              "6   6          20       RL    10084    Inside     1Fam            5   \n",
              "7   7          60       RL    10382    Corner     1Fam            6   \n",
              "8   8          50       RM     6120    Inside     1Fam            5   \n",
              "9   9         190       RL     7420    Corner   2fmCon            6   \n",
              "\n",
              "   YearBuilt  YearRemodAdd Exterior1st  BsmtFinSF2  TotalBsmtSF  SalePrice  \n",
              "0       2003          2003     VinylSd         0.0        856.0   208500.0  \n",
              "1       1976          1976     MetalSd         0.0       1262.0   181500.0  \n",
              "2       2001          2002     VinylSd         0.0        920.0   223500.0  \n",
              "3       1915          1970     Wd Sdng         0.0        756.0   140000.0  \n",
              "4       2000          2000     VinylSd         0.0       1145.0   250000.0  \n",
              "5       1993          1995     VinylSd         0.0        796.0   143000.0  \n",
              "6       2004          2005     VinylSd         0.0       1686.0   307000.0  \n",
              "7       1973          1973     HdBoard        32.0       1107.0   200000.0  \n",
              "8       1931          1950     BrkFace         0.0        952.0   129900.0  \n",
              "9       1939          1950     MetalSd         0.0        991.0   118000.0  "
            ],
            "text/html": [
              "\n",
              "  <div id=\"df-26243d51-bfcc-4a57-8064-d9a172c0ce2c\">\n",
              "    <div class=\"colab-df-container\">\n",
              "      <div>\n",
              "<style scoped>\n",
              "    .dataframe tbody tr th:only-of-type {\n",
              "        vertical-align: middle;\n",
              "    }\n",
              "\n",
              "    .dataframe tbody tr th {\n",
              "        vertical-align: top;\n",
              "    }\n",
              "\n",
              "    .dataframe thead th {\n",
              "        text-align: right;\n",
              "    }\n",
              "</style>\n",
              "<table border=\"1\" class=\"dataframe\">\n",
              "  <thead>\n",
              "    <tr style=\"text-align: right;\">\n",
              "      <th></th>\n",
              "      <th>Id</th>\n",
              "      <th>MSSubClass</th>\n",
              "      <th>MSZoning</th>\n",
              "      <th>LotArea</th>\n",
              "      <th>LotConfig</th>\n",
              "      <th>BldgType</th>\n",
              "      <th>OverallCond</th>\n",
              "      <th>YearBuilt</th>\n",
              "      <th>YearRemodAdd</th>\n",
              "      <th>Exterior1st</th>\n",
              "      <th>BsmtFinSF2</th>\n",
              "      <th>TotalBsmtSF</th>\n",
              "      <th>SalePrice</th>\n",
              "    </tr>\n",
              "  </thead>\n",
              "  <tbody>\n",
              "    <tr>\n",
              "      <th>0</th>\n",
              "      <td>0</td>\n",
              "      <td>60</td>\n",
              "      <td>RL</td>\n",
              "      <td>8450</td>\n",
              "      <td>Inside</td>\n",
              "      <td>1Fam</td>\n",
              "      <td>5</td>\n",
              "      <td>2003</td>\n",
              "      <td>2003</td>\n",
              "      <td>VinylSd</td>\n",
              "      <td>0.0</td>\n",
              "      <td>856.0</td>\n",
              "      <td>208500.0</td>\n",
              "    </tr>\n",
              "    <tr>\n",
              "      <th>1</th>\n",
              "      <td>1</td>\n",
              "      <td>20</td>\n",
              "      <td>RL</td>\n",
              "      <td>9600</td>\n",
              "      <td>FR2</td>\n",
              "      <td>1Fam</td>\n",
              "      <td>8</td>\n",
              "      <td>1976</td>\n",
              "      <td>1976</td>\n",
              "      <td>MetalSd</td>\n",
              "      <td>0.0</td>\n",
              "      <td>1262.0</td>\n",
              "      <td>181500.0</td>\n",
              "    </tr>\n",
              "    <tr>\n",
              "      <th>2</th>\n",
              "      <td>2</td>\n",
              "      <td>60</td>\n",
              "      <td>RL</td>\n",
              "      <td>11250</td>\n",
              "      <td>Inside</td>\n",
              "      <td>1Fam</td>\n",
              "      <td>5</td>\n",
              "      <td>2001</td>\n",
              "      <td>2002</td>\n",
              "      <td>VinylSd</td>\n",
              "      <td>0.0</td>\n",
              "      <td>920.0</td>\n",
              "      <td>223500.0</td>\n",
              "    </tr>\n",
              "    <tr>\n",
              "      <th>3</th>\n",
              "      <td>3</td>\n",
              "      <td>70</td>\n",
              "      <td>RL</td>\n",
              "      <td>9550</td>\n",
              "      <td>Corner</td>\n",
              "      <td>1Fam</td>\n",
              "      <td>5</td>\n",
              "      <td>1915</td>\n",
              "      <td>1970</td>\n",
              "      <td>Wd Sdng</td>\n",
              "      <td>0.0</td>\n",
              "      <td>756.0</td>\n",
              "      <td>140000.0</td>\n",
              "    </tr>\n",
              "    <tr>\n",
              "      <th>4</th>\n",
              "      <td>4</td>\n",
              "      <td>60</td>\n",
              "      <td>RL</td>\n",
              "      <td>14260</td>\n",
              "      <td>FR2</td>\n",
              "      <td>1Fam</td>\n",
              "      <td>5</td>\n",
              "      <td>2000</td>\n",
              "      <td>2000</td>\n",
              "      <td>VinylSd</td>\n",
              "      <td>0.0</td>\n",
              "      <td>1145.0</td>\n",
              "      <td>250000.0</td>\n",
              "    </tr>\n",
              "    <tr>\n",
              "      <th>5</th>\n",
              "      <td>5</td>\n",
              "      <td>50</td>\n",
              "      <td>RL</td>\n",
              "      <td>14115</td>\n",
              "      <td>Inside</td>\n",
              "      <td>1Fam</td>\n",
              "      <td>5</td>\n",
              "      <td>1993</td>\n",
              "      <td>1995</td>\n",
              "      <td>VinylSd</td>\n",
              "      <td>0.0</td>\n",
              "      <td>796.0</td>\n",
              "      <td>143000.0</td>\n",
              "    </tr>\n",
              "    <tr>\n",
              "      <th>6</th>\n",
              "      <td>6</td>\n",
              "      <td>20</td>\n",
              "      <td>RL</td>\n",
              "      <td>10084</td>\n",
              "      <td>Inside</td>\n",
              "      <td>1Fam</td>\n",
              "      <td>5</td>\n",
              "      <td>2004</td>\n",
              "      <td>2005</td>\n",
              "      <td>VinylSd</td>\n",
              "      <td>0.0</td>\n",
              "      <td>1686.0</td>\n",
              "      <td>307000.0</td>\n",
              "    </tr>\n",
              "    <tr>\n",
              "      <th>7</th>\n",
              "      <td>7</td>\n",
              "      <td>60</td>\n",
              "      <td>RL</td>\n",
              "      <td>10382</td>\n",
              "      <td>Corner</td>\n",
              "      <td>1Fam</td>\n",
              "      <td>6</td>\n",
              "      <td>1973</td>\n",
              "      <td>1973</td>\n",
              "      <td>HdBoard</td>\n",
              "      <td>32.0</td>\n",
              "      <td>1107.0</td>\n",
              "      <td>200000.0</td>\n",
              "    </tr>\n",
              "    <tr>\n",
              "      <th>8</th>\n",
              "      <td>8</td>\n",
              "      <td>50</td>\n",
              "      <td>RM</td>\n",
              "      <td>6120</td>\n",
              "      <td>Inside</td>\n",
              "      <td>1Fam</td>\n",
              "      <td>5</td>\n",
              "      <td>1931</td>\n",
              "      <td>1950</td>\n",
              "      <td>BrkFace</td>\n",
              "      <td>0.0</td>\n",
              "      <td>952.0</td>\n",
              "      <td>129900.0</td>\n",
              "    </tr>\n",
              "    <tr>\n",
              "      <th>9</th>\n",
              "      <td>9</td>\n",
              "      <td>190</td>\n",
              "      <td>RL</td>\n",
              "      <td>7420</td>\n",
              "      <td>Corner</td>\n",
              "      <td>2fmCon</td>\n",
              "      <td>6</td>\n",
              "      <td>1939</td>\n",
              "      <td>1950</td>\n",
              "      <td>MetalSd</td>\n",
              "      <td>0.0</td>\n",
              "      <td>991.0</td>\n",
              "      <td>118000.0</td>\n",
              "    </tr>\n",
              "  </tbody>\n",
              "</table>\n",
              "</div>\n",
              "      <button class=\"colab-df-convert\" onclick=\"convertToInteractive('df-26243d51-bfcc-4a57-8064-d9a172c0ce2c')\"\n",
              "              title=\"Convert this dataframe to an interactive table.\"\n",
              "              style=\"display:none;\">\n",
              "        \n",
              "  <svg xmlns=\"http://www.w3.org/2000/svg\" height=\"24px\"viewBox=\"0 0 24 24\"\n",
              "       width=\"24px\">\n",
              "    <path d=\"M0 0h24v24H0V0z\" fill=\"none\"/>\n",
              "    <path d=\"M18.56 5.44l.94 2.06.94-2.06 2.06-.94-2.06-.94-.94-2.06-.94 2.06-2.06.94zm-11 1L8.5 8.5l.94-2.06 2.06-.94-2.06-.94L8.5 2.5l-.94 2.06-2.06.94zm10 10l.94 2.06.94-2.06 2.06-.94-2.06-.94-.94-2.06-.94 2.06-2.06.94z\"/><path d=\"M17.41 7.96l-1.37-1.37c-.4-.4-.92-.59-1.43-.59-.52 0-1.04.2-1.43.59L10.3 9.45l-7.72 7.72c-.78.78-.78 2.05 0 2.83L4 21.41c.39.39.9.59 1.41.59.51 0 1.02-.2 1.41-.59l7.78-7.78 2.81-2.81c.8-.78.8-2.07 0-2.86zM5.41 20L4 18.59l7.72-7.72 1.47 1.35L5.41 20z\"/>\n",
              "  </svg>\n",
              "      </button>\n",
              "      \n",
              "  <style>\n",
              "    .colab-df-container {\n",
              "      display:flex;\n",
              "      flex-wrap:wrap;\n",
              "      gap: 12px;\n",
              "    }\n",
              "\n",
              "    .colab-df-convert {\n",
              "      background-color: #E8F0FE;\n",
              "      border: none;\n",
              "      border-radius: 50%;\n",
              "      cursor: pointer;\n",
              "      display: none;\n",
              "      fill: #1967D2;\n",
              "      height: 32px;\n",
              "      padding: 0 0 0 0;\n",
              "      width: 32px;\n",
              "    }\n",
              "\n",
              "    .colab-df-convert:hover {\n",
              "      background-color: #E2EBFA;\n",
              "      box-shadow: 0px 1px 2px rgba(60, 64, 67, 0.3), 0px 1px 3px 1px rgba(60, 64, 67, 0.15);\n",
              "      fill: #174EA6;\n",
              "    }\n",
              "\n",
              "    [theme=dark] .colab-df-convert {\n",
              "      background-color: #3B4455;\n",
              "      fill: #D2E3FC;\n",
              "    }\n",
              "\n",
              "    [theme=dark] .colab-df-convert:hover {\n",
              "      background-color: #434B5C;\n",
              "      box-shadow: 0px 1px 3px 1px rgba(0, 0, 0, 0.15);\n",
              "      filter: drop-shadow(0px 1px 2px rgba(0, 0, 0, 0.3));\n",
              "      fill: #FFFFFF;\n",
              "    }\n",
              "  </style>\n",
              "\n",
              "      <script>\n",
              "        const buttonEl =\n",
              "          document.querySelector('#df-26243d51-bfcc-4a57-8064-d9a172c0ce2c button.colab-df-convert');\n",
              "        buttonEl.style.display =\n",
              "          google.colab.kernel.accessAllowed ? 'block' : 'none';\n",
              "\n",
              "        async function convertToInteractive(key) {\n",
              "          const element = document.querySelector('#df-26243d51-bfcc-4a57-8064-d9a172c0ce2c');\n",
              "          const dataTable =\n",
              "            await google.colab.kernel.invokeFunction('convertToInteractive',\n",
              "                                                     [key], {});\n",
              "          if (!dataTable) return;\n",
              "\n",
              "          const docLinkHtml = 'Like what you see? Visit the ' +\n",
              "            '<a target=\"_blank\" href=https://colab.research.google.com/notebooks/data_table.ipynb>data table notebook</a>'\n",
              "            + ' to learn more about interactive tables.';\n",
              "          element.innerHTML = '';\n",
              "          dataTable['output_type'] = 'display_data';\n",
              "          await google.colab.output.renderOutput(dataTable, element);\n",
              "          const docLink = document.createElement('div');\n",
              "          docLink.innerHTML = docLinkHtml;\n",
              "          element.appendChild(docLink);\n",
              "        }\n",
              "      </script>\n",
              "    </div>\n",
              "  </div>\n",
              "  "
            ]
          },
          "metadata": {},
          "execution_count": 57
        }
      ],
      "source": [
        "data.head(10)"
      ]
    },
    {
      "cell_type": "code",
      "execution_count": null,
      "metadata": {
        "colab": {
          "base_uri": "https://localhost:8080/"
        },
        "id": "9AvLo5Qh8vMq",
        "outputId": "67970638-034a-4acc-907d-b88f43e39587"
      },
      "outputs": [
        {
          "output_type": "execute_result",
          "data": {
            "text/plain": [
              "(2919, 13)"
            ]
          },
          "metadata": {},
          "execution_count": 58
        }
      ],
      "source": [
        "data.shape"
      ]
    },
    {
      "cell_type": "code",
      "execution_count": null,
      "metadata": {
        "colab": {
          "base_uri": "https://localhost:8080/"
        },
        "id": "JLGtGb0g85ra",
        "outputId": "989078ff-8586-48f4-db2f-f2215cd1d33a"
      },
      "outputs": [
        {
          "output_type": "execute_result",
          "data": {
            "text/plain": [
              "Id                 0\n",
              "MSSubClass         0\n",
              "MSZoning           4\n",
              "LotArea            0\n",
              "LotConfig          0\n",
              "BldgType           0\n",
              "OverallCond        0\n",
              "YearBuilt          0\n",
              "YearRemodAdd       0\n",
              "Exterior1st        1\n",
              "BsmtFinSF2         1\n",
              "TotalBsmtSF        1\n",
              "SalePrice       1459\n",
              "dtype: int64"
            ]
          },
          "metadata": {},
          "execution_count": 59
        }
      ],
      "source": [
        "data.isnull().sum()"
      ]
    },
    {
      "cell_type": "code",
      "execution_count": null,
      "metadata": {
        "colab": {
          "base_uri": "https://localhost:8080/"
        },
        "id": "2VFIUtVX9AHx",
        "outputId": "9af7bb3f-ef4a-4c67-a9f9-1f2b95ef7e23"
      },
      "outputs": [
        {
          "output_type": "stream",
          "name": "stdout",
          "text": [
            "<class 'pandas.core.frame.DataFrame'>\n",
            "RangeIndex: 2919 entries, 0 to 2918\n",
            "Data columns (total 13 columns):\n",
            " #   Column        Non-Null Count  Dtype  \n",
            "---  ------        --------------  -----  \n",
            " 0   Id            2919 non-null   int64  \n",
            " 1   MSSubClass    2919 non-null   int64  \n",
            " 2   MSZoning      2915 non-null   object \n",
            " 3   LotArea       2919 non-null   int64  \n",
            " 4   LotConfig     2919 non-null   object \n",
            " 5   BldgType      2919 non-null   object \n",
            " 6   OverallCond   2919 non-null   int64  \n",
            " 7   YearBuilt     2919 non-null   int64  \n",
            " 8   YearRemodAdd  2919 non-null   int64  \n",
            " 9   Exterior1st   2918 non-null   object \n",
            " 10  BsmtFinSF2    2918 non-null   float64\n",
            " 11  TotalBsmtSF   2918 non-null   float64\n",
            " 12  SalePrice     1460 non-null   float64\n",
            "dtypes: float64(3), int64(6), object(4)\n",
            "memory usage: 296.6+ KB\n"
          ]
        }
      ],
      "source": [
        "data.info()"
      ]
    },
    {
      "cell_type": "code",
      "execution_count": null,
      "metadata": {
        "colab": {
          "base_uri": "https://localhost:8080/"
        },
        "id": "QaCXromv9Gis",
        "outputId": "0e877dad-2b25-432b-ee41-0d3eced376a1"
      },
      "outputs": [
        {
          "output_type": "execute_result",
          "data": {
            "text/plain": [
              "0"
            ]
          },
          "metadata": {},
          "execution_count": 61
        }
      ],
      "source": [
        "data.duplicated().sum()"
      ]
    },
    {
      "cell_type": "code",
      "execution_count": null,
      "metadata": {
        "colab": {
          "base_uri": "https://localhost:8080/",
          "height": 300
        },
        "id": "zq43V0iQ9Mt8",
        "outputId": "5b61ab0b-4f13-499d-9038-526e588cedb2"
      },
      "outputs": [
        {
          "output_type": "execute_result",
          "data": {
            "text/plain": [
              "                Id   MSSubClass        LotArea  OverallCond    YearBuilt  \\\n",
              "count  2919.000000  2919.000000    2919.000000  2919.000000  2919.000000   \n",
              "mean   1459.000000    57.137718   10168.114080     5.564577  1971.312778   \n",
              "std     842.787043    42.517628    7886.996359     1.113131    30.291442   \n",
              "min       0.000000    20.000000    1300.000000     1.000000  1872.000000   \n",
              "25%     729.500000    20.000000    7478.000000     5.000000  1953.500000   \n",
              "50%    1459.000000    50.000000    9453.000000     5.000000  1973.000000   \n",
              "75%    2188.500000    70.000000   11570.000000     6.000000  2001.000000   \n",
              "max    2918.000000   190.000000  215245.000000     9.000000  2010.000000   \n",
              "\n",
              "       YearRemodAdd   BsmtFinSF2  TotalBsmtSF      SalePrice  \n",
              "count   2919.000000  2918.000000  2918.000000    1460.000000  \n",
              "mean    1984.264474    49.582248  1051.777587  180921.195890  \n",
              "std       20.894344   169.205611   440.766258   79442.502883  \n",
              "min     1950.000000     0.000000     0.000000   34900.000000  \n",
              "25%     1965.000000     0.000000   793.000000  129975.000000  \n",
              "50%     1993.000000     0.000000   989.500000  163000.000000  \n",
              "75%     2004.000000     0.000000  1302.000000  214000.000000  \n",
              "max     2010.000000  1526.000000  6110.000000  755000.000000  "
            ],
            "text/html": [
              "\n",
              "  <div id=\"df-cc3cdf9f-1582-49b6-aee3-6a0411cbbe21\">\n",
              "    <div class=\"colab-df-container\">\n",
              "      <div>\n",
              "<style scoped>\n",
              "    .dataframe tbody tr th:only-of-type {\n",
              "        vertical-align: middle;\n",
              "    }\n",
              "\n",
              "    .dataframe tbody tr th {\n",
              "        vertical-align: top;\n",
              "    }\n",
              "\n",
              "    .dataframe thead th {\n",
              "        text-align: right;\n",
              "    }\n",
              "</style>\n",
              "<table border=\"1\" class=\"dataframe\">\n",
              "  <thead>\n",
              "    <tr style=\"text-align: right;\">\n",
              "      <th></th>\n",
              "      <th>Id</th>\n",
              "      <th>MSSubClass</th>\n",
              "      <th>LotArea</th>\n",
              "      <th>OverallCond</th>\n",
              "      <th>YearBuilt</th>\n",
              "      <th>YearRemodAdd</th>\n",
              "      <th>BsmtFinSF2</th>\n",
              "      <th>TotalBsmtSF</th>\n",
              "      <th>SalePrice</th>\n",
              "    </tr>\n",
              "  </thead>\n",
              "  <tbody>\n",
              "    <tr>\n",
              "      <th>count</th>\n",
              "      <td>2919.000000</td>\n",
              "      <td>2919.000000</td>\n",
              "      <td>2919.000000</td>\n",
              "      <td>2919.000000</td>\n",
              "      <td>2919.000000</td>\n",
              "      <td>2919.000000</td>\n",
              "      <td>2918.000000</td>\n",
              "      <td>2918.000000</td>\n",
              "      <td>1460.000000</td>\n",
              "    </tr>\n",
              "    <tr>\n",
              "      <th>mean</th>\n",
              "      <td>1459.000000</td>\n",
              "      <td>57.137718</td>\n",
              "      <td>10168.114080</td>\n",
              "      <td>5.564577</td>\n",
              "      <td>1971.312778</td>\n",
              "      <td>1984.264474</td>\n",
              "      <td>49.582248</td>\n",
              "      <td>1051.777587</td>\n",
              "      <td>180921.195890</td>\n",
              "    </tr>\n",
              "    <tr>\n",
              "      <th>std</th>\n",
              "      <td>842.787043</td>\n",
              "      <td>42.517628</td>\n",
              "      <td>7886.996359</td>\n",
              "      <td>1.113131</td>\n",
              "      <td>30.291442</td>\n",
              "      <td>20.894344</td>\n",
              "      <td>169.205611</td>\n",
              "      <td>440.766258</td>\n",
              "      <td>79442.502883</td>\n",
              "    </tr>\n",
              "    <tr>\n",
              "      <th>min</th>\n",
              "      <td>0.000000</td>\n",
              "      <td>20.000000</td>\n",
              "      <td>1300.000000</td>\n",
              "      <td>1.000000</td>\n",
              "      <td>1872.000000</td>\n",
              "      <td>1950.000000</td>\n",
              "      <td>0.000000</td>\n",
              "      <td>0.000000</td>\n",
              "      <td>34900.000000</td>\n",
              "    </tr>\n",
              "    <tr>\n",
              "      <th>25%</th>\n",
              "      <td>729.500000</td>\n",
              "      <td>20.000000</td>\n",
              "      <td>7478.000000</td>\n",
              "      <td>5.000000</td>\n",
              "      <td>1953.500000</td>\n",
              "      <td>1965.000000</td>\n",
              "      <td>0.000000</td>\n",
              "      <td>793.000000</td>\n",
              "      <td>129975.000000</td>\n",
              "    </tr>\n",
              "    <tr>\n",
              "      <th>50%</th>\n",
              "      <td>1459.000000</td>\n",
              "      <td>50.000000</td>\n",
              "      <td>9453.000000</td>\n",
              "      <td>5.000000</td>\n",
              "      <td>1973.000000</td>\n",
              "      <td>1993.000000</td>\n",
              "      <td>0.000000</td>\n",
              "      <td>989.500000</td>\n",
              "      <td>163000.000000</td>\n",
              "    </tr>\n",
              "    <tr>\n",
              "      <th>75%</th>\n",
              "      <td>2188.500000</td>\n",
              "      <td>70.000000</td>\n",
              "      <td>11570.000000</td>\n",
              "      <td>6.000000</td>\n",
              "      <td>2001.000000</td>\n",
              "      <td>2004.000000</td>\n",
              "      <td>0.000000</td>\n",
              "      <td>1302.000000</td>\n",
              "      <td>214000.000000</td>\n",
              "    </tr>\n",
              "    <tr>\n",
              "      <th>max</th>\n",
              "      <td>2918.000000</td>\n",
              "      <td>190.000000</td>\n",
              "      <td>215245.000000</td>\n",
              "      <td>9.000000</td>\n",
              "      <td>2010.000000</td>\n",
              "      <td>2010.000000</td>\n",
              "      <td>1526.000000</td>\n",
              "      <td>6110.000000</td>\n",
              "      <td>755000.000000</td>\n",
              "    </tr>\n",
              "  </tbody>\n",
              "</table>\n",
              "</div>\n",
              "      <button class=\"colab-df-convert\" onclick=\"convertToInteractive('df-cc3cdf9f-1582-49b6-aee3-6a0411cbbe21')\"\n",
              "              title=\"Convert this dataframe to an interactive table.\"\n",
              "              style=\"display:none;\">\n",
              "        \n",
              "  <svg xmlns=\"http://www.w3.org/2000/svg\" height=\"24px\"viewBox=\"0 0 24 24\"\n",
              "       width=\"24px\">\n",
              "    <path d=\"M0 0h24v24H0V0z\" fill=\"none\"/>\n",
              "    <path d=\"M18.56 5.44l.94 2.06.94-2.06 2.06-.94-2.06-.94-.94-2.06-.94 2.06-2.06.94zm-11 1L8.5 8.5l.94-2.06 2.06-.94-2.06-.94L8.5 2.5l-.94 2.06-2.06.94zm10 10l.94 2.06.94-2.06 2.06-.94-2.06-.94-.94-2.06-.94 2.06-2.06.94z\"/><path d=\"M17.41 7.96l-1.37-1.37c-.4-.4-.92-.59-1.43-.59-.52 0-1.04.2-1.43.59L10.3 9.45l-7.72 7.72c-.78.78-.78 2.05 0 2.83L4 21.41c.39.39.9.59 1.41.59.51 0 1.02-.2 1.41-.59l7.78-7.78 2.81-2.81c.8-.78.8-2.07 0-2.86zM5.41 20L4 18.59l7.72-7.72 1.47 1.35L5.41 20z\"/>\n",
              "  </svg>\n",
              "      </button>\n",
              "      \n",
              "  <style>\n",
              "    .colab-df-container {\n",
              "      display:flex;\n",
              "      flex-wrap:wrap;\n",
              "      gap: 12px;\n",
              "    }\n",
              "\n",
              "    .colab-df-convert {\n",
              "      background-color: #E8F0FE;\n",
              "      border: none;\n",
              "      border-radius: 50%;\n",
              "      cursor: pointer;\n",
              "      display: none;\n",
              "      fill: #1967D2;\n",
              "      height: 32px;\n",
              "      padding: 0 0 0 0;\n",
              "      width: 32px;\n",
              "    }\n",
              "\n",
              "    .colab-df-convert:hover {\n",
              "      background-color: #E2EBFA;\n",
              "      box-shadow: 0px 1px 2px rgba(60, 64, 67, 0.3), 0px 1px 3px 1px rgba(60, 64, 67, 0.15);\n",
              "      fill: #174EA6;\n",
              "    }\n",
              "\n",
              "    [theme=dark] .colab-df-convert {\n",
              "      background-color: #3B4455;\n",
              "      fill: #D2E3FC;\n",
              "    }\n",
              "\n",
              "    [theme=dark] .colab-df-convert:hover {\n",
              "      background-color: #434B5C;\n",
              "      box-shadow: 0px 1px 3px 1px rgba(0, 0, 0, 0.15);\n",
              "      filter: drop-shadow(0px 1px 2px rgba(0, 0, 0, 0.3));\n",
              "      fill: #FFFFFF;\n",
              "    }\n",
              "  </style>\n",
              "\n",
              "      <script>\n",
              "        const buttonEl =\n",
              "          document.querySelector('#df-cc3cdf9f-1582-49b6-aee3-6a0411cbbe21 button.colab-df-convert');\n",
              "        buttonEl.style.display =\n",
              "          google.colab.kernel.accessAllowed ? 'block' : 'none';\n",
              "\n",
              "        async function convertToInteractive(key) {\n",
              "          const element = document.querySelector('#df-cc3cdf9f-1582-49b6-aee3-6a0411cbbe21');\n",
              "          const dataTable =\n",
              "            await google.colab.kernel.invokeFunction('convertToInteractive',\n",
              "                                                     [key], {});\n",
              "          if (!dataTable) return;\n",
              "\n",
              "          const docLinkHtml = 'Like what you see? Visit the ' +\n",
              "            '<a target=\"_blank\" href=https://colab.research.google.com/notebooks/data_table.ipynb>data table notebook</a>'\n",
              "            + ' to learn more about interactive tables.';\n",
              "          element.innerHTML = '';\n",
              "          dataTable['output_type'] = 'display_data';\n",
              "          await google.colab.output.renderOutput(dataTable, element);\n",
              "          const docLink = document.createElement('div');\n",
              "          docLink.innerHTML = docLinkHtml;\n",
              "          element.appendChild(docLink);\n",
              "        }\n",
              "      </script>\n",
              "    </div>\n",
              "  </div>\n",
              "  "
            ]
          },
          "metadata": {},
          "execution_count": 62
        }
      ],
      "source": [
        "data.describe()"
      ]
    },
    {
      "cell_type": "markdown",
      "metadata": {
        "id": "I_TYbq4b6jVX"
      },
      "source": [
        "Data Preprocessing"
      ]
    },
    {
      "cell_type": "code",
      "execution_count": null,
      "metadata": {
        "colab": {
          "base_uri": "https://localhost:8080/"
        },
        "id": "8SPea6nC9UZx",
        "outputId": "64d68651-ab82-48dd-80ae-def7566309c4"
      },
      "outputs": [
        {
          "output_type": "stream",
          "name": "stdout",
          "text": [
            "Categorical variables: 4\n"
          ]
        }
      ],
      "source": [
        "obj = (data.dtypes == 'object')\n",
        "object_cols = list(obj[obj].index)\n",
        "print(\"Categorical variables:\",len(object_cols))"
      ]
    },
    {
      "cell_type": "code",
      "execution_count": null,
      "metadata": {
        "colab": {
          "base_uri": "https://localhost:8080/"
        },
        "id": "jKnEAC186UkR",
        "outputId": "6c97f85b-bdf0-4458-d060-e70aa740dca3"
      },
      "outputs": [
        {
          "output_type": "stream",
          "name": "stdout",
          "text": [
            "Integer variables: 6\n"
          ]
        }
      ],
      "source": [
        "int_ = (data.dtypes == 'int')\n",
        "num_cols = list(int_[int_].index)\n",
        "print(\"Integer variables:\",len(num_cols))"
      ]
    },
    {
      "cell_type": "code",
      "execution_count": null,
      "metadata": {
        "colab": {
          "base_uri": "https://localhost:8080/"
        },
        "id": "8sWoP_H_6c2S",
        "outputId": "433a3b79-9116-42ef-e1f4-f4e903f29373"
      },
      "outputs": [
        {
          "output_type": "stream",
          "name": "stdout",
          "text": [
            "Float variables: 3\n"
          ]
        }
      ],
      "source": [
        "fl = (data.dtypes == 'float')\n",
        "fl_cols = list(fl[fl].index)\n",
        "print(\"Float variables:\",len(fl_cols))"
      ]
    },
    {
      "cell_type": "markdown",
      "metadata": {
        "id": "XMnSRKiE6w3T"
      },
      "source": [
        "Exploratory Data Analysis"
      ]
    },
    {
      "cell_type": "code",
      "execution_count": null,
      "metadata": {
        "colab": {
          "base_uri": "https://localhost:8080/",
          "height": 981
        },
        "id": "2ABqV8Wa6x1r",
        "outputId": "97c890f9-9f7b-407e-f181-c0173007edad"
      },
      "outputs": [
        {
          "output_type": "stream",
          "name": "stderr",
          "text": [
            "<ipython-input-67-d84174c41335>:2: FutureWarning: The default value of numeric_only in DataFrame.corr is deprecated. In a future version, it will default to False. Select only valid columns or specify the value of numeric_only to silence this warning.\n",
            "  sns.heatmap(data.corr(),cbar=True,annot = True, cmap='coolwarm')\n"
          ]
        },
        {
          "output_type": "display_data",
          "data": {
            "text/plain": [
              "<Figure size 1000x1000 with 2 Axes>"
            ],
            "image/png": "[encoded data removed]"
          },
          "metadata": {}
        }
      ],
      "source": [
        "plt.figure(figsize=(10, 10))\n",
        "sns.heatmap(data.corr(),cbar=True,annot = True, cmap='coolwarm')\n",
        "plt.show()"
      ]
    },
    {
      "cell_type": "markdown",
      "source": [
        " Analyze the different categorical features."
      ],
      "metadata": {
        "id": "SatfEnxhcGXk"
      }
    },
    {
      "cell_type": "code",
      "source": [
        "unique_values = []\n",
        "for col in object_cols:\n",
        "  unique_values.append(data[col].unique().size)\n",
        "plt.figure(figsize=(10,6))\n",
        "plt.title('No. Unique values of Categorical Features')\n",
        "plt.xticks(rotation=90)\n",
        "sns.barplot(x=object_cols,y=unique_values)"
      ],
      "metadata": {
        "colab": {
          "base_uri": "https://localhost:8080/",
          "height": 624
        },
        "id": "IT3W1llwb59O",
        "outputId": "10eb356c-3dfd-4201-f2d5-9ff80b0ed6ad"
      },
      "execution_count": null,
      "outputs": [
        {
          "output_type": "execute_result",
          "data": {
            "text/plain": [
              "<Axes: title={'center': 'No. Unique values of Categorical Features'}>"
            ]
          },
          "metadata": {},
          "execution_count": 76
        },
        {
          "output_type": "display_data",
          "data": {
            "text/plain": [
              "<Figure size 1000x600 with 1 Axes>"
            ],
            "image/png": "[encoded data removed]"
          },
          "metadata": {}
        }
      ]
    },
    {
      "cell_type": "code",
      "source": [
        "# MSZoning distribution\n",
        "plt.figure(figsize=(6,6))\n",
        "sns.histplot(data['MSZoning'])\n",
        "plt.title('MSZoning in distribution')\n",
        "plt.show()"
      ],
      "metadata": {
        "colab": {
          "base_uri": "https://localhost:8080/",
          "height": 564
        },
        "id": "RXQL4mYDcaQU",
        "outputId": "945d1d39-0f3e-4aa3-a29b-db13a49e1da6"
      },
      "execution_count": null,
      "outputs": [
        {
          "output_type": "display_data",
          "data": {
            "text/plain": [
              "<Figure size 600x600 with 1 Axes>"
            ],
            "image/png": "[encoded data removed]"
          },
          "metadata": {}
        }
      ]
    },
    {
      "cell_type": "code",
      "source": [
        "# LotConfig distribution\n",
        "plt.figure(figsize=(6,6))\n",
        "sns.histplot(data['LotConfig'])\n",
        "plt.title('LotConfig  in distribution')\n",
        "plt.show()"
      ],
      "metadata": {
        "colab": {
          "base_uri": "https://localhost:8080/",
          "height": 564
        },
        "id": "qqF0tlONbGDF",
        "outputId": "0d84a9fc-b9bf-4327-9f2f-602fd16c6f34"
      },
      "execution_count": null,
      "outputs": [
        {
          "output_type": "display_data",
          "data": {
            "text/plain": [
              "<Figure size 600x600 with 1 Axes>"
            ],
            "image/png": "[encoded data removed]"
          },
          "metadata": {}
        }
      ]
    },
    {
      "cell_type": "code",
      "source": [
        "# BldgType distribution\n",
        "plt.figure(figsize=(6,6))\n",
        "sns.histplot(data['BldgType'])\n",
        "plt.title('BldgType in distribution')\n",
        "plt.show()"
      ],
      "metadata": {
        "colab": {
          "base_uri": "https://localhost:8080/",
          "height": 564
        },
        "id": "5m40llIlc2UK",
        "outputId": "3f8002e7-0353-40ca-daa6-3aff5da6fbb3"
      },
      "execution_count": null,
      "outputs": [
        {
          "output_type": "display_data",
          "data": {
            "text/plain": [
              "<Figure size 600x600 with 1 Axes>"
            ],
            "image/png": "[encoded data removed]"
          },
          "metadata": {}
        }
      ]
    },
    {
      "cell_type": "code",
      "source": [
        "# Exterior1st  distribution\n",
        "plt.figure(figsize=(15,15))\n",
        "sns.histplot(data['Exterior1st'])\n",
        "plt.title('Exterior1st in distribution')\n",
        "plt.show()"
      ],
      "metadata": {
        "colab": {
          "base_uri": "https://localhost:8080/",
          "height": 1000
        },
        "id": "lxOk0sPFeCdx",
        "outputId": "fd678be8-04fa-4555-de80-2a6d1473b2e6"
      },
      "execution_count": null,
      "outputs": [
        {
          "output_type": "display_data",
          "data": {
            "text/plain": [
              "<Figure size 1500x1500 with 1 Axes>"
            ],
            "image/png": "[encoded data removed]"
          },
          "metadata": {}
        }
      ]
    },
    {
      "cell_type": "code",
      "source": [
        "data.drop(['Id'],axis=1,inplace=True)"
      ],
      "metadata": {
        "id": "DgIrCp-serWU"
      },
      "execution_count": null,
      "outputs": []
    },
    {
      "cell_type": "code",
      "source": [
        "data['SalePrice'] = data['SalePrice'].fillna(data['SalePrice'].mean())"
      ],
      "metadata": {
        "id": "x0MlkXS7e4jI"
      },
      "execution_count": null,
      "outputs": []
    },
    {
      "cell_type": "code",
      "source": [
        "new_data = data.dropna()"
      ],
      "metadata": {
        "id": "nWHYUFE6fCTF"
      },
      "execution_count": null,
      "outputs": []
    },
    {
      "cell_type": "code",
      "source": [
        "new_data.isnull().sum()"
      ],
      "metadata": {
        "colab": {
          "base_uri": "https://localhost:8080/"
        },
        "id": "Al5IRUH2fJcx",
        "outputId": "3abde815-529c-4342-a9ad-7ba71437475e"
      },
      "execution_count": null,
      "outputs": [
        {
          "output_type": "execute_result",
          "data": {
            "text/plain": [
              "MSSubClass      0\n",
              "MSZoning        0\n",
              "LotArea         0\n",
              "LotConfig       0\n",
              "BldgType        0\n",
              "OverallCond     0\n",
              "YearBuilt       0\n",
              "YearRemodAdd    0\n",
              "Exterior1st     0\n",
              "BsmtFinSF2      0\n",
              "TotalBsmtSF     0\n",
              "SalePrice       0\n",
              "dtype: int64"
            ]
          },
          "metadata": {},
          "execution_count": 88
        }
      ]
    },
    {
      "cell_type": "code",
      "source": [
        "from sklearn.preprocessing import OneHotEncoder\n",
        "\n",
        "s = (new_data.dtypes == 'object')\n",
        "object_cols = list(s[s].index)\n",
        "print(\"Categorical variables:\")\n",
        "print(object_cols)\n",
        "print('No. of. categorical features: ',\n",
        "      len(object_cols))"
      ],
      "metadata": {
        "colab": {
          "base_uri": "https://localhost:8080/"
        },
        "id": "P9bexI5mfTKv",
        "outputId": "c2ebd013-ed72-436a-fc65-c68a80dedba2"
      },
      "execution_count": null,
      "outputs": [
        {
          "output_type": "stream",
          "name": "stdout",
          "text": [
            "Categorical variables:\n",
            "['MSZoning', 'LotConfig', 'BldgType', 'Exterior1st']\n",
            "No. of. categorical features:  4\n"
          ]
        }
      ]
    },
    {
      "cell_type": "code",
      "source": [
        "OH_encoder = OneHotEncoder(sparse=False)\n",
        "OH_cols = pd.DataFrame(OH_encoder.fit_transform(new_data[object_cols]))\n",
        "OH_cols.index = new_data.index\n",
        "df_final = new_data.drop(object_cols, axis=1)\n",
        "df_final = pd.concat([df_final, OH_cols], axis=1)"
      ],
      "metadata": {
        "colab": {
          "base_uri": "https://localhost:8080/"
        },
        "id": "VZkYGqzXfheM",
        "outputId": "dc7179e3-d1f3-47fa-a1bc-05c006108054"
      },
      "execution_count": null,
      "outputs": [
        {
          "output_type": "stream",
          "name": "stderr",
          "text": [
            "/usr/local/lib/python3.10/dist-packages/sklearn/preprocessing/_encoders.py:868: FutureWarning: `sparse` was renamed to `sparse_output` in version 1.2 and will be removed in 1.4. `sparse_output` is ignored unless you leave `sparse` to its default value.\n",
            "  warnings.warn(\n"
          ]
        }
      ]
    },
    {
      "cell_type": "code",
      "source": [
        "from re import X\n",
        "from sklearn.metrics import mean_absolute_error\n",
        "from sklearn.model_selection import train_test_split\n",
        "\n",
        "x = df_final.drop(['SalePrice'], axis=1)\n",
        "y = df_final['SalePrice']"
      ],
      "metadata": {
        "id": "1LPlthUyf_vF"
      },
      "execution_count": null,
      "outputs": []
    },
    {
      "cell_type": "code",
      "source": [
        "x_train, x_test, y_train, y_test = train_test_split(x, y, train_size=0.4, test_size=0.2, random_state=0)"
      ],
      "metadata": {
        "id": "-Gvy4hAugIbO"
      },
      "execution_count": null,
      "outputs": []
    },
    {
      "cell_type": "code",
      "source": [
        "print(x_train.shape, x_test.shape, y_train.shape, y_test.shape)"
      ],
      "metadata": {
        "colab": {
          "base_uri": "https://localhost:8080/"
        },
        "id": "MuXDDwZ9g8dC",
        "outputId": "3e1eb670-e17d-43d4-c85e-d8792ab5f8cc"
      },
      "execution_count": null,
      "outputs": [
        {
          "output_type": "stream",
          "name": "stdout",
          "text": [
            "(1165, 37) (583, 37) (1165,) (583,)\n"
          ]
        }
      ]
    },
    {
      "cell_type": "code",
      "source": [
        "from sklearn.linear_model import LinearRegression\n",
        "from sklearn.ensemble import RandomForestRegressor\n",
        "from xgboost import XGBRegressor"
      ],
      "metadata": {
        "id": "on5oXyF2hO0z"
      },
      "execution_count": null,
      "outputs": []
    },
    {
      "cell_type": "code",
      "source": [
        "regressor = XGBRegressor()\n",
        "regressor.fit(x_train, y_train)"
      ],
      "metadata": {
        "colab": {
          "base_uri": "https://localhost:8080/",
          "height": 248
        },
        "id": "0rH1pLnxikvI",
        "outputId": "1f64e006-bf5d-466c-f572-3351280b291b"
      },
      "execution_count": null,
      "outputs": [
        {
          "output_type": "execute_result",
          "data": {
            "text/plain": [
              "XGBRegressor(base_score=None, booster=None, callbacks=None,\n",
              "             colsample_bylevel=None, colsample_bynode=None,\n",
              "             colsample_bytree=None, early_stopping_rounds=None,\n",
              "             enable_categorical=False, eval_metric=None, feature_types=None,\n",
              "             gamma=None, gpu_id=None, grow_policy=None, importance_type=None,\n",
              "             interaction_constraints=None, learning_rate=None, max_bin=None,\n",
              "             max_cat_threshold=None, max_cat_to_onehot=None,\n",
              "             max_delta_step=None, max_depth=None, max_leaves=None,\n",
              "             min_child_weight=None, missing=nan, monotone_constraints=None,\n",
              "             n_estimators=100, n_jobs=None, num_parallel_tree=None,\n",
              "             predictor=None, random_state=None, ...)"
            ],
            "text/html": [
              "<style>#sk-container-id-1 {color: black;background-color: white;}#sk-container-id-1 pre{padding: 0;}#sk-container-id-1 div.sk-toggleable {background-color: white;}#sk-container-id-1 label.sk-toggleable__label {cursor: pointer;display: block;width: 100%;margin-bottom: 0;padding: 0.3em;box-sizing: border-box;text-align: center;}#sk-container-id-1 label.sk-toggleable__label-arrow:before {content: \"▸\";float: left;margin-right: 0.25em;color: #696969;}#sk-container-id-1 label.sk-toggleable__label-arrow:hover:before {color: black;}#sk-container-id-1 div.sk-estimator:hover label.sk-toggleable__label-arrow:before {color: black;}#sk-container-id-1 div.sk-toggleable__content {max-height: 0;max-width: 0;overflow: hidden;text-align: left;background-color: #f0f8ff;}#sk-container-id-1 div.sk-toggleable__content pre {margin: 0.2em;color: black;border-radius: 0.25em;background-color: #f0f8ff;}#sk-container-id-1 input.sk-toggleable__control:checked~div.sk-toggleable__content {max-height: 200px;max-width: 100%;overflow: auto;}#sk-container-id-1 input.sk-toggleable__control:checked~label.sk-toggleable__label-arrow:before {content: \"▾\";}#sk-container-id-1 div.sk-estimator input.sk-toggleable__control:checked~label.sk-toggleable__label {background-color: #d4ebff;}#sk-container-id-1 div.sk-label input.sk-toggleable__control:checked~label.sk-toggleable__label {background-color: #d4ebff;}#sk-container-id-1 input.sk-hidden--visually {border: 0;clip: rect(1px 1px 1px 1px);clip: rect(1px, 1px, 1px, 1px);height: 1px;margin: -1px;overflow: hidden;padding: 0;position: absolute;width: 1px;}#sk-container-id-1 div.sk-estimator {font-family: monospace;background-color: #f0f8ff;border: 1px dotted black;border-radius: 0.25em;box-sizing: border-box;margin-bottom: 0.5em;}#sk-container-id-1 div.sk-estimator:hover {background-color: #d4ebff;}#sk-container-id-1 div.sk-parallel-item::after {content: \"\";width: 100%;border-bottom: 1px solid gray;flex-grow: 1;}#sk-container-id-1 div.sk-label:hover label.sk-toggleable__label {background-color: #d4ebff;}#sk-container-id-1 div.sk-serial::before {content: \"\";position: absolute;border-left: 1px solid gray;box-sizing: border-box;top: 0;bottom: 0;left: 50%;z-index: 0;}#sk-container-id-1 div.sk-serial {display: flex;flex-direction: column;align-items: center;background-color: white;padding-right: 0.2em;padding-left: 0.2em;position: relative;}#sk-container-id-1 div.sk-item {position: relative;z-index: 1;}#sk-container-id-1 div.sk-parallel {display: flex;align-items: stretch;justify-content: center;background-color: white;position: relative;}#sk-container-id-1 div.sk-item::before, #sk-container-id-1 div.sk-parallel-item::before {content: \"\";position: absolute;border-left: 1px solid gray;box-sizing: border-box;top: 0;bottom: 0;left: 50%;z-index: -1;}#sk-container-id-1 div.sk-parallel-item {display: flex;flex-direction: column;z-index: 1;position: relative;background-color: white;}#sk-container-id-1 div.sk-parallel-item:first-child::after {align-self: flex-end;width: 50%;}#sk-container-id-1 div.sk-parallel-item:last-child::after {align-self: flex-start;width: 50%;}#sk-container-id-1 div.sk-parallel-item:only-child::after {width: 0;}#sk-container-id-1 div.sk-dashed-wrapped {border: 1px dashed gray;margin: 0 0.4em 0.5em 0.4em;box-sizing: border-box;padding-bottom: 0.4em;background-color: white;}#sk-container-id-1 div.sk-label label {font-family: monospace;font-weight: bold;display: inline-block;line-height: 1.2em;}#sk-container-id-1 div.sk-label-container {text-align: center;}#sk-container-id-1 div.sk-container {/* jupyter's `normalize.less` sets `[hidden] { display: none; }` but bootstrap.min.css set `[hidden] { display: none !important; }` so we also need the `!important` here to be able to override the default hidden behavior on the sphinx rendered scikit-learn.org. See: https://github.com/scikit-learn/scikit-learn/issues/21755 */display: inline-block !important;position: relative;}#sk-container-id-1 div.sk-text-repr-fallback {display: none;}</style><div id=\"sk-container-id-1\" class=\"sk-top-container\"><div class=\"sk-text-repr-fallback\"><pre>XGBRegressor(base_score=None, booster=None, callbacks=None,\n",
              "             colsample_bylevel=None, colsample_bynode=None,\n",
              "             colsample_bytree=None, early_stopping_rounds=None,\n",
              "             enable_categorical=False, eval_metric=None, feature_types=None,\n",
              "             gamma=None, gpu_id=None, grow_policy=None, importance_type=None,\n",
              "             interaction_constraints=None, learning_rate=None, max_bin=None,\n",
              "             max_cat_threshold=None, max_cat_to_onehot=None,\n",
              "             max_delta_step=None, max_depth=None, max_leaves=None,\n",
              "             min_child_weight=None, missing=nan, monotone_constraints=None,\n",
              "             n_estimators=100, n_jobs=None, num_parallel_tree=None,\n",
              "             predictor=None, random_state=None, ...)</pre><b>In a Jupyter environment, please rerun this cell to show the HTML representation or trust the notebook. <br />On GitHub, the HTML representation is unable to render, please try loading this page with nbviewer.org.</b></div><div class=\"sk-container\" hidden><div class=\"sk-item\"><div class=\"sk-estimator sk-toggleable\"><input class=\"sk-toggleable__control sk-hidden--visually\" id=\"sk-estimator-id-1\" type=\"checkbox\" checked><label for=\"sk-estimator-id-1\" class=\"sk-toggleable__label sk-toggleable__label-arrow\">XGBRegressor</label><div class=\"sk-toggleable__content\"><pre>XGBRegressor(base_score=None, booster=None, callbacks=None,\n",
              "             colsample_bylevel=None, colsample_bynode=None,\n",
              "             colsample_bytree=None, early_stopping_rounds=None,\n",
              "             enable_categorical=False, eval_metric=None, feature_types=None,\n",
              "             gamma=None, gpu_id=None, grow_policy=None, importance_type=None,\n",
              "             interaction_constraints=None, learning_rate=None, max_bin=None,\n",
              "             max_cat_threshold=None, max_cat_to_onehot=None,\n",
              "             max_delta_step=None, max_depth=None, max_leaves=None,\n",
              "             min_child_weight=None, missing=nan, monotone_constraints=None,\n",
              "             n_estimators=100, n_jobs=None, num_parallel_tree=None,\n",
              "             predictor=None, random_state=None, ...)</pre></div></div></div></div></div>"
            ]
          },
          "metadata": {},
          "execution_count": 106
        }
      ]
    },
    {
      "cell_type": "code",
      "source": [
        "# prediction on testing data\n",
        "training_data_prediction = regressor.predict(x_train)"
      ],
      "metadata": {
        "id": "I-WFL1ryjo2G"
      },
      "execution_count": null,
      "outputs": []
    },
    {
      "cell_type": "code",
      "source": [
        "training_data_prediction"
      ],
      "metadata": {
        "colab": {
          "base_uri": "https://localhost:8080/"
        },
        "id": "I3coknayjwl4",
        "outputId": "130e211b-0c1f-433c-9f07-3f0e63f4e3e7"
      },
      "execution_count": null,
      "outputs": [
        {
          "output_type": "execute_result",
          "data": {
            "text/plain": [
              "array([ 91160.336, 179149.23 , 156973.94 , ..., 120508.85 , 146802.38 ,\n",
              "       158995.34 ], dtype=float32)"
            ]
          },
          "metadata": {},
          "execution_count": 108
        }
      ]
    },
    {
      "cell_type": "code",
      "source": [
        "testing_data_prediction = regressor.predict(x_test)"
      ],
      "metadata": {
        "id": "_3tGatBEj2Xw"
      },
      "execution_count": null,
      "outputs": []
    },
    {
      "cell_type": "code",
      "source": [
        "testing_data_prediction"
      ],
      "metadata": {
        "colab": {
          "base_uri": "https://localhost:8080/"
        },
        "id": "VVB9OdRkj6IK",
        "outputId": "9fcb16b1-a348-4015-98d8-de30021b2684"
      },
      "execution_count": null,
      "outputs": [
        {
          "output_type": "execute_result",
          "data": {
            "text/plain": [
              "array([184186.   , 254789.98 , 195923.78 , 162901.48 , 237847.3  ,\n",
              "       190957.72 ,  96277.9  , 160604.3  , 177665.17 , 207013.7  ,\n",
              "       160018.6  , 241836.25 , 153282.25 , 165865.44 , 193119.69 ,\n",
              "       163738.33 , 123116.44 , 180500.14 , 205990.58 , 182546.7  ,\n",
              "       185515.58 , 153548.2  , 216420.39 , 159427.77 , 114471.72 ,\n",
              "       167217.64 , 157797.17 , 152634.33 , 216478.78 , 141194.36 ,\n",
              "       150962.75 , 189255.4  , 165966.27 , 173405.81 , 177669.72 ,\n",
              "       184082.89 , 149090.34 , 168831.92 , 162157.03 , 207308.97 ,\n",
              "       206092.83 , 222073.92 , 180971.22 , 144516.56 , 170726.06 ,\n",
              "       243280.52 , 193256.97 ,  80259.87 , 174250.23 , 184086.11 ,\n",
              "       209183.   , 190681.92 , 203203.72 , 135217.23 , 183880.98 ,\n",
              "       168338.06 , 185397.03 , 217746.27 , 160200.16 , 205235.73 ,\n",
              "       198173.55 , 139056.66 , 162276.3  , 165515.72 , 156268.16 ,\n",
              "       181203.03 , 152842.95 , 116603.41 , 173122.3  , 160617.36 ,\n",
              "       148127.25 , 179557.1  , 179639.78 , 226591.42 , 182856.28 ,\n",
              "       147096.53 , 173717.47 , 159549.22 , 180814.95 , 209323.45 ,\n",
              "       139609.66 , 184989.36 , 192991.34 , 183412.97 , 168728.58 ,\n",
              "       145310.03 , 156119.2  , 203335.23 , 164037.78 , 178449.83 ,\n",
              "       140889.8  , 187157.8  , 176670.31 , 149404.39 , 168558.25 ,\n",
              "       153549.95 , 151221.97 , 164015.27 , 178877.9  , 165352.06 ,\n",
              "       175009.14 , 149719.5  , 182285.92 , 197414.47 , 144336.72 ,\n",
              "       182890.5  , 185653.38 , 159518.69 , 102224.45 , 162750.   ,\n",
              "       167420.7  , 183911.61 , 160278.75 , 167856.44 , 166607.5  ,\n",
              "       172655.27 , 248863.84 , 201820.17 , 246262.2  , 154799.77 ,\n",
              "       309614.25 , 200247.03 , 183162.38 , 185575.6  , 122443.875,\n",
              "       190985.5  , 176382.55 , 168221.22 , 197196.31 , 181039.94 ,\n",
              "       150914.25 , 148068.7  , 242850.27 , 169634.58 , 158076.61 ,\n",
              "       154836.75 , 194978.   , 144143.08 , 166663.16 , 235516.12 ,\n",
              "       131671.48 , 171569.66 , 203376.84 , 168848.9  , 173898.6  ,\n",
              "       170298.36 , 169147.02 , 179300.36 , 115875.484, 112399.42 ,\n",
              "       194569.22 , 188612.23 , 152795.86 , 141818.97 ,  81224.13 ,\n",
              "       147249.97 , 174891.88 , 167979.16 , 172945.33 , 182458.42 ,\n",
              "       138168.73 , 120999.08 , 179183.78 , 151007.16 , 145168.34 ,\n",
              "       248332.02 , 171500.67 , 250670.03 , 251210.75 , 175602.4  ,\n",
              "       169859.52 , 162972.23 , 126390.35 , 167126.08 , 184455.45 ,\n",
              "       190557.19 , 157873.48 , 203063.97 , 297154.47 , 185119.42 ,\n",
              "       166792.39 , 154462.66 , 197235.39 , 165606.4  , 210689.08 ,\n",
              "       277677.75 , 175202.61 , 274035.6  , 126767.086, 152388.38 ,\n",
              "       165378.5  , 144400.31 , 163801.53 , 111102.76 , 139290.1  ,\n",
              "       238894.48 , 258543.39 , 168923.61 , 143419.62 , 104850.555,\n",
              "       219292.12 , 155858.66 , 185690.89 , 188790.62 , 165460.31 ,\n",
              "       186591.98 , 179653.69 , 192209.72 , 176155.19 , 178922.16 ,\n",
              "       152079.62 , 155400.62 , 174533.4  , 171322.92 , 156270.2  ,\n",
              "       172403.27 , 155224.19 ,  89986.91 , 166989.77 , 174930.88 ,\n",
              "       119669.29 , 173772.75 , 165123.45 , 132126.9  , 169034.47 ,\n",
              "       169528.73 , 208486.48 , 162081.92 , 257899.2  , 172830.31 ,\n",
              "       165027.94 , 159018.53 ,  95495.95 , 165112.78 , 164921.66 ,\n",
              "       185700.38 , 126992.445, 189240.66 , 182641.56 , 171507.05 ,\n",
              "       203311.97 , 160278.75 , 151915.81 , 151375.56 , 167712.58 ,\n",
              "       162113.56 , 165946.14 , 179723.83 , 205366.9  , 456792.22 ,\n",
              "       180993.67 , 204689.69 , 171079.12 , 200310.4  , 245851.89 ,\n",
              "       103814.086, 162190.66 , 256138.4  , 200413.5  , 214499.17 ,\n",
              "       144597.6  , 196229.78 , 192990.9  , 190400.39 , 202750.95 ,\n",
              "       159867.52 , 146209.23 , 194861.8  , 204446.45 , 144818.83 ,\n",
              "       153680.34 , 268890.06 , 192168.39 , 166390.23 , 177683.1  ,\n",
              "       270897.8  , 202791.75 , 171400.17 , 187212.19 , 140759.89 ,\n",
              "       162781.05 , 176858.12 , 219075.9  , 175902.22 , 171010.03 ,\n",
              "       151277.81 , 298245.38 , 158883.55 , 224832.34 , 167507.77 ,\n",
              "       131743.66 , 207667.78 , 195417.94 , 177121.19 , 182510.42 ,\n",
              "       176610.47 , 314116.7  , 173404.69 , 194150.67 , 254355.14 ,\n",
              "       143336.03 , 109816.27 , 254133.2  , 175853.88 , 332236.34 ,\n",
              "       179147.39 , 161332.28 , 198990.73 , 167923.6  , 165669.02 ,\n",
              "       184595.86 , 151696.77 , 176871.6  , 179790.16 , 186359.83 ,\n",
              "       162874.98 , 158759.39 , 135320.   , 166325.48 , 148100.27 ,\n",
              "       173555.92 , 109861.42 , 190604.34 , 133594.1  , 218431.92 ,\n",
              "       181784.2  , 196403.03 , 131670.11 , 155991.03 , 134491.58 ,\n",
              "       180593.64 , 308592.5  , 126824.27 , 227623.03 , 290075.9  ,\n",
              "       184433.31 , 195084.66 , 169860.69 , 213361.34 , 185275.11 ,\n",
              "       171620.45 , 147998.69 , 252635.42 , 139120.16 , 153845.83 ,\n",
              "       159083.67 , 173466.61 , 180317.22 , 215832.16 , 159218.9  ,\n",
              "       196622.98 , 201872.6  , 259545.17 , 128883.12 , 185606.72 ,\n",
              "       180937.69 , 135578.55 , 177116.28 , 316580.34 , 184741.53 ,\n",
              "       279382.25 , 135176.39 , 140052.62 , 160419.23 , 133001.69 ,\n",
              "       221064.75 , 189823.36 , 192309.78 , 142490.8  , 195469.69 ,\n",
              "       209028.92 , 191405.   , 165368.31 , 146075.34 , 300698.84 ,\n",
              "       177839.39 , 175415.78 , 268755.47 , 162005.53 , 194298.72 ,\n",
              "       169063.31 , 157624.1  , 141694.69 , 159218.9  , 174826.66 ,\n",
              "       192019.34 , 211169.84 , 191418.19 , 190442.62 , 175651.88 ,\n",
              "       187405.19 , 171036.08 , 185708.45 , 240852.36 , 187855.73 ,\n",
              "       137975.27 , 185700.73 , 144947.1  , 161874.72 , 391374.7  ,\n",
              "       179891.23 , 157867.36 , 215679.94 , 204418.84 , 179308.19 ,\n",
              "       175278.95 , 180178.14 , 192356.98 , 158162.83 , 154524.81 ,\n",
              "       249365.52 , 187498.23 , 180092.75 , 131152.08 , 126511.766,\n",
              "       152179.92 , 257456.47 , 135125.81 , 153349.61 , 163968.39 ,\n",
              "       139321.44 , 167228.39 , 143751.48 , 222122.84 , 176222.64 ,\n",
              "       163457.14 , 170703.23 , 207192.11 , 241370.58 , 124681.04 ,\n",
              "       156923.19 , 205671.02 , 176647.7  , 137423.88 , 183198.81 ,\n",
              "       186949.22 , 186259.34 , 173116.14 ,  81884.2  , 172412.27 ,\n",
              "       174703.23 , 195492.3  , 161174.58 , 154253.52 , 151995.95 ,\n",
              "       235518.42 , 197831.4  , 167624.8  , 160377.11 , 106137.   ,\n",
              "       201062.83 , 178921.45 , 163812.83 , 218786.94 , 167253.75 ,\n",
              "       235119.8  , 165947.53 , 129151.45 , 154901.64 , 156720.34 ,\n",
              "       146904.53 , 164430.33 , 265035.75 , 215342.19 , 175537.53 ,\n",
              "       171231.3  , 195330.27 , 237578.3  , 154819.52 , 138027.17 ,\n",
              "       124772.51 , 196318.62 , 135060.95 , 153236.31 , 179015.22 ,\n",
              "       222940.27 , 194016.89 , 174826.66 , 186211.94 , 152000.03 ,\n",
              "       165227.92 , 219835.31 , 143168.73 , 192281.12 , 222895.92 ,\n",
              "       181730.1  , 178418.12 , 155457.1  , 234419.6  , 155003.11 ,\n",
              "       173975.38 , 197926.84 , 136765.56 , 157261.77 , 182023.16 ,\n",
              "       262651.5  , 156954.36 , 131072.36 , 163015.69 , 151444.52 ,\n",
              "       160036.4  , 173785.23 , 162703.06 , 246593.39 , 181203.03 ,\n",
              "       215508.44 , 164464.95 , 224248.92 ,  84685.26 , 207133.98 ,\n",
              "       203575.89 , 174089.33 , 221648.55 , 194532.77 , 164830.06 ,\n",
              "       254735.97 , 138433.95 , 154062.52 , 183100.55 , 177708.97 ,\n",
              "       208949.53 , 214395.89 , 209138.78 , 136829.05 , 288186.84 ,\n",
              "       144784.73 , 161088.31 , 224009.25 , 173942.97 , 166624.58 ,\n",
              "       163733.81 , 155110.44 , 209184.92 , 380864.25 , 140740.73 ,\n",
              "       222240.88 , 137494.16 , 171137.22 , 140830.4  , 171587.6  ,\n",
              "       146013.6  , 185929.52 , 162095.5  , 171165.9  , 178833.33 ,\n",
              "       212722.95 , 153451.47 ,  91184.77 , 178904.69 , 172471.86 ,\n",
              "       161517.58 , 158941.31 , 171731.12 , 138897.52 , 213473.05 ,\n",
              "       123757.63 , 176824.03 , 165174.03 , 160383.56 , 236128.38 ,\n",
              "       155520.97 , 157891.62 , 162259.03 , 224688.42 , 240911.48 ,\n",
              "       171777.48 , 212313.47 , 174792.4  , 179827.61 , 163438.47 ,\n",
              "       180165.9  , 192766.47 , 166997.84 , 200414.19 , 171129.9  ,\n",
              "       163903.06 , 162046.47 , 137100.56 , 190632.58 , 168252.17 ,\n",
              "       193540.7  , 277773.9  , 176345.28 ], dtype=float32)"
            ]
          },
          "metadata": {},
          "execution_count": 114
        }
      ]
    }
  ],
  "metadata": {
    "colab": {
      "provenance": [],
      "authorship_tag": "ABX9TyMvLGvvPZIr3Od8XuDNHEha",
      "include_colab_link": true
    },
    "kernelspec": {
      "display_name": "Python 3",
      "name": "python3"
    },
    "language_info": {
      "name": "python"
    }
  },
  "nbformat": 4,
  "nbformat_minor": 0
}